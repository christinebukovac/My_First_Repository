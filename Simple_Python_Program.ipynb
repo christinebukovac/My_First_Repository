{
 "cells": [
  {
   "cell_type": "markdown",
   "metadata": {},
   "source": [
    "## <center> Simple Python Program </center> \n",
    "<center>Christine Bukovac </center>\n",
    "\n",
    " <img src=\"https://media.wired.com/photos/5e59a85635982c0009f6eb8a/191:100/w_2292,h_1200,c_limit/python-popularity.jpg\" style=\"width:350px;height:200px\">"
   ]
  },
  {
   "cell_type": "code",
   "execution_count": 1,
   "metadata": {},
   "outputs": [
    {
     "name": "stdout",
     "output_type": "stream",
     "text": [
      "Please enter an integer (or enter 9999 to stop): 1\n",
      "Please enter an integer (or enter 9999 to stop): 20\n",
      "Please enter an integer (or enter 9999 to stop): 4413\n",
      "Please enter an integer (or enter 9999 to stop): 999\n",
      "Please enter an integer (or enter 9999 to stop): 9999\n",
      "\n",
      "The total number of inputs processed is 4\n",
      "The sum of the positive inputs is 5433\n",
      "The sum of the negative inputs is 0\n",
      "The total number of inputs that are 0 is 0\n",
      "End of program\n"
     ]
    }
   ],
   "source": [
    "# This program collects input from a user and performs serveral operations,\n",
    "# including counting and summing the input in various ways\n",
    "\n",
    "# Set the value of the sentinel and initialize variables\n",
    "\n",
    "sentinel = 9999\n",
    "all_count = 0\n",
    "total_pos = 0\n",
    "total_neg = 0\n",
    "zero_count = 0\n",
    "\n",
    "# Get input from the user and count it / sum it appropriately\n",
    "\n",
    "number = int(input(\"Please enter an integer (or enter 9999 to stop): \"))\n",
    "\n",
    "while number != sentinel:\n",
    "    all_count += 1\n",
    "    if number > 0:\n",
    "        total_pos += number\n",
    "    elif number < 0:\n",
    "        total_neg += number\n",
    "    else:\n",
    "        zero_count += 1\n",
    "    number = int(input(\"Please enter an integer (or enter 9999 to stop): \"))\n",
    "    \n",
    "# Print results\n",
    "\n",
    "print(\"\")\n",
    "print(\"The total number of inputs processed is\", all_count)\n",
    "print(\"The sum of the positive inputs is\", total_pos)\n",
    "print(\"The sum of the negative inputs is\", total_neg)\n",
    "print(\"The total number of inputs that are 0 is\", zero_count)\n",
    "print(\"End of program\")"
   ]
  }
 ],
 "metadata": {
  "kernelspec": {
   "display_name": "Python 3",
   "language": "python",
   "name": "python3"
  },
  "language_info": {
   "codemirror_mode": {
    "name": "ipython",
    "version": 3
   },
   "file_extension": ".py",
   "mimetype": "text/x-python",
   "name": "python",
   "nbconvert_exporter": "python",
   "pygments_lexer": "ipython3",
   "version": "3.8.3"
  }
 },
 "nbformat": 4,
 "nbformat_minor": 4
}
